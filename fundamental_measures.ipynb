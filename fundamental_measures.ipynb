{
 "cells": [
  {
   "cell_type": "code",
   "id": "initial_id",
   "metadata": {
    "collapsed": true,
    "ExecuteTime": {
     "end_time": "2025-06-21T22:00:38.769972Z",
     "start_time": "2025-06-21T22:00:27.477085Z"
    }
   },
   "source": [
    "import yfinance as yf, pandas as pd, numpy as np\n",
    "\n",
    "'''\n",
    "Calculating Fundamental Trading Metrics:\n",
    "- Sharpe Ratio\n",
    "- 2024 Market Cap\n",
    "- Revenue Growth Rate\n",
    "- Price X Revenue\n",
    "- Gross Profit Margins\n",
    "- Buyback Value\n",
    "'''\n",
    "\n",
    "tickers = [\n",
    "    'META', 'NICE', 'KLAC', 'REGN', 'MITK', 'AMAT', 'FIS', 'COUR',\n",
    "    'GILD', 'GOOG', 'UIS', 'AMD', 'ROK', 'DELL', 'GNRC', 'TXN',\n",
    "    'BP', 'ILMN', 'WFC', 'NOK', 'RMBS', 'SNPS', 'EXAS', 'CCL',\n",
    "    'PARA', 'CRWD', 'PYPL', 'INTC'\n",
    "]\n",
    "\n",
    "# Calculate Sharpe Ratio for One Stock\n",
    "def get_sharpe_ratio(ticker):\n",
    "    equity = yf.Ticker(ticker)\n",
    "    hist = equity.history(period='1y')\n",
    "    returns = hist['Close'].pct_change().dropna()\n",
    "\n",
    "    excess_returns = returns - .0432 / 252 # Using 3-month TBill as Risk-Free Rate\n",
    "    sharpe = excess_returns.mean() / excess_returns.std() * np.sqrt(252) # 252 trading days\n",
    "\n",
    "    return round(sharpe, 3)\n",
    "\n",
    "# Calculate Sharpe Ratio for All Stocks\n",
    "def all_sharpe_ratios(tickers):\n",
    "    metrics = {}\n",
    "\n",
    "    for ticker in tickers:\n",
    "        metrics[ticker] = get_sharpe_ratio(ticker)\n",
    "\n",
    "    return metrics\n",
    "\n",
    "sharpe_results = all_sharpe_ratios(tickers)\n",
    "sharpe_dataframe = pd.DataFrame(list(sharpe_results.items()),\n",
    "                               columns=['Ticker', 'Sharpe Ratio'])\n",
    "\n",
    "# 2024 End Of Year Market Caps\n",
    "def get_dec31_2024_market_cap(ticker):\n",
    "\n",
    "    stock = yf.Ticker(ticker)\n",
    "\n",
    "    start_date = '2024-12-31'\n",
    "    end_date = '2025-01-02'\n",
    "\n",
    "    hist = stock.history(start=start_date, end=end_date)\n",
    "\n",
    "    # Last trading day of 2024 (Dec 29, 2023)\n",
    "    last_price_2024 = hist['Close'].iloc[0]  # First available price\n",
    "    price_date = hist.index[0].strftime('%Y-%m-%d')\n",
    "\n",
    "    # Get current shares outstanding\n",
    "    info = stock.info\n",
    "    shares_outstanding = info.get('sharesOutstanding', 0)\n",
    "\n",
    "    # Calculate market cap in billions\n",
    "    market_cap_billions = (last_price_2024 * shares_outstanding) / 1e9\n",
    "\n",
    "    return market_cap_billions\n",
    "\n",
    "def get_all_eoy_market_caps(tickers):\n",
    "    metrics = {}\n",
    "    for ticker in tickers:\n",
    "        metrics[ticker] = round(get_dec31_2024_market_cap(ticker), 2)\n",
    "    return metrics\n",
    "\n",
    "eoy_market_caps = all_sharpe_ratios(tickers)\n",
    "market_cap_df = pd.DataFrame(list(get_all_eoy_market_caps(tickers).items()),\n",
    "                               columns=['Ticker', '2024 Market Cap'])\n",
    "\n",
    "# Get Revenue Growth from Yahoo Finance Data\n",
    "def get_revenue_growth(ticker):\n",
    "    stock = yf.Ticker(ticker)\n",
    "    info = stock.info\n",
    "\n",
    "    # yfinance often has revenue growth rate pre-calculated\n",
    "    revenue_growth = info.get('revenueGrowth')\n",
    "    return round(revenue_growth * 100, 2)  # Convert to percentage\n",
    "\n",
    "\n",
    "def get_all_revenue_growth(tickers):\n",
    "    metrics = {}\n",
    "    for ticker in tickers:\n",
    "        metrics[ticker] = get_revenue_growth(ticker)\n",
    "    return metrics\n",
    "\n",
    "\n",
    "\n",
    "\n",
    "\n"
   ],
   "outputs": [
    {
     "name": "stderr",
     "output_type": "stream",
     "text": [
      "HTTP Error 401: \n",
      "HTTP Error 401: \n",
      "HTTP Error 401: \n"
     ]
    },
    {
     "name": "stdout",
     "output_type": "stream",
     "text": [
      "16.1\n"
     ]
    }
   ],
   "execution_count": 29
  }
 ],
 "metadata": {
  "kernelspec": {
   "display_name": "Python 3",
   "language": "python",
   "name": "python3"
  },
  "language_info": {
   "codemirror_mode": {
    "name": "ipython",
    "version": 2
   },
   "file_extension": ".py",
   "mimetype": "text/x-python",
   "name": "python",
   "nbconvert_exporter": "python",
   "pygments_lexer": "ipython2",
   "version": "2.7.6"
  }
 },
 "nbformat": 4,
 "nbformat_minor": 5
}
